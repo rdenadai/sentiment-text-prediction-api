{
 "cells": [
  {
   "cell_type": "code",
   "execution_count": 66,
   "metadata": {
    "ExecuteTime": {
     "end_time": "2020-07-12T18:15:47.174139Z",
     "start_time": "2020-07-12T18:15:47.147472Z"
    }
   },
   "outputs": [],
   "source": [
    "import os\n",
    "import sys\n",
    "import warnings\n",
    "\n",
    "warnings.filterwarnings(\"ignore\")\n",
    "\n",
    "sys.path.append(f\"{os.getcwd()}/../\")\n",
    "\n",
    "import numpy as np\n",
    "import pandas as pd\n",
    "import matplotlib.pyplot as plt\n",
    "import seaborn as sn\n",
    "from sklearn.pipeline import make_pipeline, Pipeline\n",
    "from sklearn.model_selection import train_test_split\n",
    "from sklearn.metrics import classification_report\n",
    "from sklearn.metrics import confusion_matrix\n",
    "from sklearn.model_selection import cross_val_score\n",
    "from sklearn.feature_extraction.text import TfidfVectorizer\n",
    "from sklearn.svm import SVC\n",
    "from sklearn.model_selection import GridSearchCV\n",
    "\n",
    "from processing.utils import CleanUp, SNOWBALL_STEMMER, RSLP_STEMMER\n",
    "\n",
    "%matplotlib inline"
   ]
  },
  {
   "cell_type": "code",
   "execution_count": 67,
   "metadata": {
    "ExecuteTime": {
     "end_time": "2020-07-12T18:15:48.075993Z",
     "start_time": "2020-07-12T18:15:48.062385Z"
    }
   },
   "outputs": [],
   "source": [
    "clean_up = CleanUp(remove_stopwords=True, stemmer=RSLP_STEMMER)"
   ]
  },
  {
   "cell_type": "code",
   "execution_count": 68,
   "metadata": {
    "ExecuteTime": {
     "end_time": "2020-07-12T18:15:48.883854Z",
     "start_time": "2020-07-12T18:15:48.848132Z"
    }
   },
   "outputs": [],
   "source": [
    "df = pd.read_csv(f\"{os.getcwd()}/../data/frases/dataset_emocoes.csv\", sep=\"|\")"
   ]
  },
  {
   "cell_type": "code",
   "execution_count": 69,
   "metadata": {
    "ExecuteTime": {
     "end_time": "2020-07-12T18:15:53.958120Z",
     "start_time": "2020-07-12T18:15:49.816338Z"
    }
   },
   "outputs": [],
   "source": [
    "X = df[\"Sentence\"].apply(lambda comment: clean_up.fit(str(comment))).to_numpy()\n",
    "y = np.argmax(pd.get_dummies(df[\"Emotion\"]).to_numpy(), axis=-1)"
   ]
  },
  {
   "cell_type": "code",
   "execution_count": 70,
   "metadata": {
    "ExecuteTime": {
     "end_time": "2020-07-12T18:15:53.961506Z",
     "start_time": "2020-07-12T18:15:53.959338Z"
    }
   },
   "outputs": [
    {
     "name": "stdout",
     "output_type": "stream",
     "text": [
      "Dataset size: 2496\n"
     ]
    }
   ],
   "source": [
    "print(f'Dataset size: {len(X)}')"
   ]
  },
  {
   "cell_type": "code",
   "execution_count": 71,
   "metadata": {
    "ExecuteTime": {
     "end_time": "2020-07-12T18:15:54.157391Z",
     "start_time": "2020-07-12T18:15:53.962878Z"
    }
   },
   "outputs": [],
   "source": [
    "X_train, X_test, y_train, y_test = train_test_split(X, y, test_size=0.2, random_state=0)"
   ]
  },
  {
   "cell_type": "code",
   "execution_count": 72,
   "metadata": {
    "ExecuteTime": {
     "end_time": "2020-07-12T18:16:09.529735Z",
     "start_time": "2020-07-12T18:16:09.515842Z"
    }
   },
   "outputs": [],
   "source": [
    "parameters = {\n",
    "    \"tfidf__ngram_range\": [(1, 1), (2, 2), (3, 3), (1, 2), (1, 3), (1, 4), (1, 5)],\n",
    "    # \"tfidf__lowercase\": [False],\n",
    "    \"svm__kernel\": [\"linear\", \"rbf\"],\n",
    "    # \"svm__C\": [1, 5, 7, 9, 15],\n",
    "    # \"svm__random_state\": [0, 10, 100, 1000],\n",
    "}\n",
    "pipe = Pipeline(steps=[(\"tfidf\", TfidfVectorizer()), (\"svm\", SVC())])\n",
    "pipe = GridSearchCV(pipe, parameters, n_jobs=-1)"
   ]
  },
  {
   "cell_type": "code",
   "execution_count": 73,
   "metadata": {
    "ExecuteTime": {
     "end_time": "2020-07-12T18:16:22.699233Z",
     "start_time": "2020-07-12T18:16:10.213279Z"
    }
   },
   "outputs": [
    {
     "name": "stdout",
     "output_type": "stream",
     "text": [
      "Best parameter (CV score=0.544):\n",
      "{'svm__kernel': 'linear', 'tfidf__ngram_range': (1, 4)}\n"
     ]
    }
   ],
   "source": [
    "# Fit the dataset to pipeline\n",
    "pipe.fit(X_train, y_train)\n",
    "print(\"Best parameter (CV score=%0.3f):\" % pipe.best_score_)\n",
    "print(pipe.best_params_)"
   ]
  },
  {
   "cell_type": "code",
   "execution_count": 74,
   "metadata": {
    "ExecuteTime": {
     "end_time": "2020-07-12T18:16:30.648733Z",
     "start_time": "2020-07-12T18:16:22.700904Z"
    }
   },
   "outputs": [
    {
     "name": "stdout",
     "output_type": "stream",
     "text": [
      "Validating TF-IDF + SVM\n",
      "Cross Validation accuracy: 0.54 (+/- 0.02)\n",
      "[0.565      0.53634085 0.54135338 0.52882206 0.54887218]\n",
      "--------------------\n",
      "Classification Report\n",
      "--------------------\n",
      "              precision    recall  f1-score   support\n",
      "\n",
      "           0       0.51      0.79      0.62       155\n",
      "           1       0.42      0.21      0.28        63\n",
      "           2       1.00      0.04      0.07        26\n",
      "           3       0.90      0.86      0.88        87\n",
      "           4       0.33      0.03      0.06        29\n",
      "           5       0.00      0.00      0.00        24\n",
      "           6       0.49      0.60      0.54       116\n",
      "\n",
      "    accuracy                           0.56       500\n",
      "   macro avg       0.52      0.36      0.35       500\n",
      "weighted avg       0.55      0.56      0.51       500\n",
      "\n",
      "Confusion Matrix\n",
      "--------------------\n"
     ]
    },
    {
     "data": {
      "image/png": "[encoded data removed]",
      "text/plain": [
       "<Figure size 432x288 with 2 Axes>"
      ]
     },
     "metadata": {
      "needs_background": "light"
     },
     "output_type": "display_data"
    }
   ],
   "source": [
    "# Best params for each step of pipeline\n",
    "tfidf_params = pipe.best_estimator_.named_steps[\"tfidf\"].get_params()\n",
    "svm_params = pipe.best_estimator_.named_steps[\"svm\"].get_params()\n",
    "\n",
    "# After run GridSearchCV\n",
    "print(\"Validating TF-IDF + SVM\")\n",
    "pipe = make_pipeline(TfidfVectorizer(**tfidf_params), SVC(**svm_params))\n",
    "\n",
    "# Verify cross validation ... above 0.75 is good enough\n",
    "scores = cross_val_score(pipe, X_train, y_train, cv=5)\n",
    "print(\n",
    "    \"Cross Validation accuracy: %0.2f (+/- %0.2f)\"\n",
    "    % (scores.mean(), scores.std() * 2)\n",
    ")\n",
    "print(scores)\n",
    "print(\"-\" * 20)\n",
    "\n",
    "# Predict the test data and show others metrics\n",
    "pipe.fit(X_train, y_train)\n",
    "pred = pipe.predict(X_test)\n",
    "print(\"Classification Report\")\n",
    "print(\"-\" * 20)\n",
    "print(classification_report(y_test, pred))\n",
    "print(\"Confusion Matrix\")\n",
    "print(\"-\" * 20)\n",
    "df_cm = confusion_matrix(y_test, pred)\n",
    "plt.figure(figsize=(6, 4))\n",
    "sn.heatmap(df_cm, annot=True, fmt=\"d\")\n",
    "plt.tight_layout()\n",
    "plt.show()"
   ]
  },
  {
   "cell_type": "code",
   "execution_count": null,
   "metadata": {},
   "outputs": [],
   "source": []
  }
 ],
 "metadata": {
  "hide_input": false,
  "kernelspec": {
   "display_name": "Python 3",
   "language": "python",
   "name": "python3"
  },
  "language_info": {
   "codemirror_mode": {
    "name": "ipython",
    "version": 3
   },
   "file_extension": ".py",
   "mimetype": "text/x-python",
   "name": "python",
   "nbconvert_exporter": "python",
   "pygments_lexer": "ipython3",
   "version": "3.8.3"
  },
  "toc": {
   "base_numbering": 1,
   "nav_menu": {},
   "number_sections": true,
   "sideBar": true,
   "skip_h1_title": false,
   "title_cell": "Table of Contents",
   "title_sidebar": "Contents",
   "toc_cell": false,
   "toc_position": {},
   "toc_section_display": true,
   "toc_window_display": false
  }
 },
 "nbformat": 4,
 "nbformat_minor": 4
}
