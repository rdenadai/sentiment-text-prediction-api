{
 "cells": [
  {
   "cell_type": "code",
   "execution_count": 1,
   "metadata": {
    "ExecuteTime": {
     "end_time": "2020-07-14T04:19:18.433904Z",
     "start_time": "2020-07-14T04:19:18.430157Z"
    }
   },
   "outputs": [],
   "source": [
    "import os\n",
    "import sys\n",
    "import warnings\n",
    "\n",
    "warnings.filterwarnings(\"ignore\")\n",
    "\n",
    "sys.path.append(f\"{os.getcwd()}/../\")"
   ]
  },
  {
   "cell_type": "code",
   "execution_count": 2,
   "metadata": {
    "ExecuteTime": {
     "end_time": "2020-07-14T04:19:19.529270Z",
     "start_time": "2020-07-14T04:19:18.435905Z"
    }
   },
   "outputs": [],
   "source": [
    "from string import punctuation\n",
    "import pandas as pd\n",
    "from nltk import word_tokenize\n",
    "\n",
    "\n",
    "class EmotionNaiveClassifier:\n",
    "    \n",
    "    def __init__(self, path=\"\"):\n",
    "        self.alegria = pd.read_csv(f\"{path}alegria\", header=None)\n",
    "        self.surpresa = pd.read_csv(f\"{path}surpresa\", header=None)\n",
    "        self.confianca = pd.read_csv(f\"{path}confianca\", header=None)\n",
    "        self.desgosto = pd.read_csv(f\"{path}desgosto\", header=None)\n",
    "        self.medo = pd.read_csv(f\"{path}medo\", header=None)\n",
    "        self.raiva = pd.read_csv(f\"{path}raiva\", header=None)\n",
    "        self.tristeza = pd.read_csv(f\"{path}tristeza\", header=None)\n",
    "        \n",
    "        self.alegria.columns = [\"emocao\"]\n",
    "        self.surpresa.columns = [\"emocao\"]\n",
    "        self.confianca.columns = [\"emocao\"]\n",
    "        self.desgosto.columns = [\"emocao\"]\n",
    "        self.medo.columns = [\"emocao\"]\n",
    "        self.raiva.columns = [\"emocao\"]\n",
    "        self.tristeza.columns = [\"emocao\"]\n",
    "    \n",
    "        self.dataset = list(zip(\n",
    "            [\"alegria\", \"surpresa\", \"confiança\", \"desgosto\", \"medo\", \"raiva\", \"tristeza\"],\n",
    "            [self.alegria, self.surpresa, self.confianca, self.desgosto, self.medo, self.raiva, self.tristeza]\n",
    "        ))\n",
    "    \n",
    "    def predict(self, phrase):\n",
    "        coef_ = {\n",
    "            \"alegria\": 0,\n",
    "            \"surpresa\": 0,\n",
    "            \"confiança\": 0,\n",
    "            \"desgosto\": 0,\n",
    "            \"medo\": 0,\n",
    "            \"raiva\": 0,\n",
    "            \"tristeza\": 0\n",
    "        }\n",
    "        verificar_negacao = True if \"não\" in phrase or \"sem\" in phrase else False\n",
    "        \n",
    "        phrase = [word for word in word_tokenize(phrase) if word not in punctuation]\n",
    "        for i, word in enumerate(phrase):\n",
    "            for sent, df in self.dataset:\n",
    "                wd_ = df[df[\"emocao\"] == word]\n",
    "                if wd_.size > 0:\n",
    "                    negando = False\n",
    "                    \n",
    "                    if verificar_negacao:\n",
    "                        for m in range(5):\n",
    "                            if i-m >= 0:\n",
    "                                if phrase[i-m] == \"não\" or phrase[i-m] == \"sem\":\n",
    "                                    negando = True\n",
    "                                    break\n",
    "\n",
    "                    if not negando:\n",
    "                        coef_[sent] += 1\n",
    "                    else:\n",
    "                        if sent == \"surpresa\":\n",
    "                            coef_[\"tristeza\"] += 0.25\n",
    "                        elif sent == \"confiança\":\n",
    "                            coef_[\"tristeza\"] += 0.15\n",
    "                            coef_[\"medo\"] += 0.25\n",
    "                        elif sent == \"alegria\":\n",
    "                            coef_[\"tristeza\"] += 0.15\n",
    "                            coef_[\"desgosto\"] += 0.25\n",
    "                        elif sent == \"desgosto\":\n",
    "                            coef_[\"alegria\"] += 0.25\n",
    "                        elif sent == \"tristeza\":\n",
    "                            coef_[\"alegria\"] += 0.25\n",
    "                            coef_[\"confiança\"] += 0.15\n",
    "\n",
    "        coef_ = {sent: round(val, 3) for sent, val in coef_.items()}\n",
    "        coef_[\"tristeza\"] += coef_[\"medo\"] * 1e-1\n",
    "        coef_[\"confiança\"] -= coef_[\"medo\"] * 1e-1\n",
    "        coef_[\"confiança\"] = 0.0 if coef_[\"confiança\"] < 0.0 else coef_[\"confiança\"]\n",
    "        coef_[\"raiva\"] += coef_[\"medo\"] * 1e-2\n",
    "        coef_[\"raiva\"] += coef_[\"desgosto\"] * 1e-2\n",
    "        coef_[\"alegria\"] += coef_[\"confiança\"] * 1e-2\n",
    "        coef_[\"alegria\"] += coef_[\"surpresa\"] * 1e-2\n",
    "        coef_ = {sent: round((val / (100 / len(phrase))) * 100, 2) for sent, val in coef_.items()}\n",
    "        return coef_"
   ]
  },
  {
   "cell_type": "code",
   "execution_count": 3,
   "metadata": {
    "ExecuteTime": {
     "end_time": "2020-07-14T04:19:20.057069Z",
     "start_time": "2020-07-14T04:19:19.531176Z"
    },
    "scrolled": false
   },
   "outputs": [
    {
     "name": "stdout",
     "output_type": "stream",
     "text": [
      "minha mãe esta doente e não sei mais o que fazer, preciso de ajuda\n",
      "{'alegria': 0.11, 'surpresa': 0.0, 'confiança': 11.2, 'desgosto': 14.0, 'medo': 28.0, 'raiva': 0.42, 'tristeza': 16.8}\n",
      "\n",
      "acho que tudo dará certo, tenho certeza que esse é o caminho correto.\n",
      "{'alegria': 0.38, 'surpresa': 0.0, 'confiança': 37.7, 'desgosto': 0.0, 'medo': 13.0, 'raiva': 0.13, 'tristeza': 1.3}\n",
      "\n",
      "não quero estragar a surpresa, mas você esta muito equivocado.\n",
      "{'alegria': 0.0, 'surpresa': 0.0, 'confiança': 0.0, 'desgosto': 10.0, 'medo': 0.0, 'raiva': 0.1, 'tristeza': 2.5}\n",
      "\n",
      "espero que você morra seu desgraçado\n",
      "{'alegria': 0.0, 'surpresa': 0.0, 'confiança': 0.0, 'desgosto': 6.0, 'medo': 0.0, 'raiva': 12.06, 'tristeza': 0.0}\n",
      "\n",
      "eu não gosto de você, seu bastardo.\n",
      "{'alegria': 0.0, 'surpresa': 0.0, 'confiança': 0.0, 'desgosto': 8.75, 'medo': 0.0, 'raiva': 7.09, 'tristeza': 1.05}\n",
      "\n",
      "o lobo mau, vai comer a chapéuzinho vermelho e somento o caçador poderá salva-la\n",
      "{'alegria': 0.0, 'surpresa': 0.0, 'confiança': 0.0, 'desgosto': 0.0, 'medo': 14.0, 'raiva': 0.14, 'tristeza': 15.4}\n",
      "\n",
      "eu gostei muito de te conhecer, você é uma pessoa bem legal\n",
      "{'alegria': 24.0, 'surpresa': 0.0, 'confiança': 0.0, 'desgosto': 0.0, 'medo': 0.0, 'raiva': 0.0, 'tristeza': 0.0}\n",
      "\n",
      "esta tudo bem, sem problemas\n",
      "{'alegria': 1.25, 'surpresa': 0.0, 'confiança': 0.0, 'desgosto': 0.0, 'medo': 0.0, 'raiva': 0.0, 'tristeza': 0.0}\n",
      "\n",
      "sem você eu não sou nada\n",
      "{'alegria': 1.51, 'surpresa': 0.0, 'confiança': 0.9, 'desgosto': 0.0, 'medo': 0.0, 'raiva': 0.0, 'tristeza': 0.0}\n",
      "\n",
      "nossa que festa legal hein\n",
      "{'alegria': 10.0, 'surpresa': 0.0, 'confiança': 0.0, 'desgosto': 0.0, 'medo': 0.0, 'raiva': 0.0, 'tristeza': 0.0}\n",
      "\n",
      "trabalho excelente, meus parabéns\n",
      "{'alegria': 8.0, 'surpresa': 0.0, 'confiança': 0.0, 'desgosto': 0.0, 'medo': 0.0, 'raiva': 0.0, 'tristeza': 0.0}\n",
      "\n",
      "este trabalho foi realizado com muita atenção, parabéns, ficou excelente\n",
      "{'alegria': 20.0, 'surpresa': 0.0, 'confiança': 0.0, 'desgosto': 0.0, 'medo': 0.0, 'raiva': 0.0, 'tristeza': 0.0}\n",
      "\n"
     ]
    }
   ],
   "source": [
    "frases = [\n",
    "    \"minha mãe esta doente e não sei mais o que fazer, preciso de ajuda\",\n",
    "    \"acho que tudo dará certo, tenho certeza que esse é o caminho correto.\",\n",
    "    \"não quero estragar a surpresa, mas você esta muito equivocado.\",\n",
    "    \"espero que você morra seu desgraçado\",\n",
    "    \"eu não gosto de você, seu bastardo.\",\n",
    "    \"o lobo mau, vai comer a chapéuzinho vermelho e somento o caçador poderá salva-la\",\n",
    "    \"eu gostei muito de te conhecer, você é uma pessoa bem legal\",\n",
    "    \"esta tudo bem, sem problemas\",\n",
    "    \"sem você eu não sou nada\",\n",
    "    \"nossa que festa legal hein\",\n",
    "    \"trabalho excelente, meus parabéns\",\n",
    "    \"este trabalho foi realizado com muita atenção, parabéns, ficou excelente\"\n",
    "]\n",
    "\n",
    "clf = EmotionNaiveClassifier(path=f\"{os.getcwd()}/../data/emocoes/\")\n",
    "for frase in frases:\n",
    "    print(frase)\n",
    "    print(clf.predict(frase))\n",
    "    print()"
   ]
  },
  {
   "cell_type": "code",
   "execution_count": null,
   "metadata": {},
   "outputs": [],
   "source": []
  }
 ],
 "metadata": {
  "kernelspec": {
   "display_name": "Python 3",
   "language": "python",
   "name": "python3"
  },
  "language_info": {
   "codemirror_mode": {
    "name": "ipython",
    "version": 3
   },
   "file_extension": ".py",
   "mimetype": "text/x-python",
   "name": "python",
   "nbconvert_exporter": "python",
   "pygments_lexer": "ipython3",
   "version": "3.8.2"
  }
 },
 "nbformat": 4,
 "nbformat_minor": 4
}
