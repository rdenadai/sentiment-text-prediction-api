{
 "cells": [
  {
   "cell_type": "code",
   "execution_count": 3,
   "metadata": {
    "ExecuteTime": {
     "end_time": "2020-07-12T18:07:00.417724Z",
     "start_time": "2020-07-12T18:06:58.359908Z"
    }
   },
   "outputs": [
    {
     "name": "stdout",
     "output_type": "stream",
     "text": [
      "Num GPUs Available:  1\n"
     ]
    }
   ],
   "source": [
    "import os\n",
    "import sys\n",
    "import warnings\n",
    "\n",
    "warnings.filterwarnings(\"ignore\")\n",
    "\n",
    "sys.path.append(f\"{os.getcwd()}/../\")\n",
    "\n",
    "import numpy as np\n",
    "import pandas as pd\n",
    "import matplotlib.pyplot as plt\n",
    "import seaborn as sn\n",
    "from sklearn.model_selection import train_test_split\n",
    "from sklearn.metrics import classification_report\n",
    "from sklearn.metrics import confusion_matrix\n",
    "from gensim.models import KeyedVectors\n",
    "from gensim.test.utils import get_tmpfile\n",
    "\n",
    "import tensorflow as tf\n",
    "from keras.utils import to_categorical\n",
    "from keras.initializers import Constant\n",
    "from tensorflow.keras import regularizers\n",
    "from tensorflow.keras.callbacks import ModelCheckpoint\n",
    "from tensorflow.keras.models import Sequential\n",
    "from tensorflow.keras.layers import (\n",
    "    Dense, Dropout, Activation, Flatten, \n",
    "    Embedding, Bidirectional, LSTM, GRU, Attention, \n",
    "    BatchNormalization, Conv1D, MaxPooling1D, TimeDistributed,\n",
    "    SpatialDropout1D, GlobalMaxPooling1D, GlobalAveragePooling1D\n",
    ")\n",
    "from keras.preprocessing.text import Tokenizer\n",
    "from keras.preprocessing.sequence import pad_sequences\n",
    "\n",
    "from processing.utils import CleanUp, SNOWBALL_STEMMER, RSLP_STEMMER\n",
    "\n",
    "%matplotlib inline\n",
    "\n",
    "print(\"Num GPUs Available: \", len(tf.config.experimental.list_physical_devices(\"GPU\")))"
   ]
  },
  {
   "cell_type": "code",
   "execution_count": 4,
   "metadata": {
    "ExecuteTime": {
     "end_time": "2020-07-12T18:07:01.221418Z",
     "start_time": "2020-07-12T18:07:00.419083Z"
    }
   },
   "outputs": [
    {
     "name": "stdout",
     "output_type": "stream",
     "text": [
      "Device mapping:\n",
      "/job:localhost/replica:0/task:0/device:XLA_CPU:0 -> device: XLA_CPU device\n",
      "/job:localhost/replica:0/task:0/device:XLA_GPU:0 -> device: XLA_GPU device\n",
      "/job:localhost/replica:0/task:0/device:GPU:0 -> device: 0, name: GeForce GTX 1060 with Max-Q Design, pci bus id: 0000:01:00.0, compute capability: 6.1\n",
      "\n"
     ]
    }
   ],
   "source": [
    "sess = tf.compat.v1.Session(config=tf.compat.v1.ConfigProto(log_device_placement=True))"
   ]
  },
  {
   "cell_type": "code",
   "execution_count": 10,
   "metadata": {
    "ExecuteTime": {
     "end_time": "2020-07-12T18:07:58.567017Z",
     "start_time": "2020-07-12T18:07:58.561478Z"
    }
   },
   "outputs": [],
   "source": [
    "clean_up = CleanUp(stemmer=RSLP_STEMMER)"
   ]
  },
  {
   "cell_type": "code",
   "execution_count": 11,
   "metadata": {
    "ExecuteTime": {
     "end_time": "2020-07-12T18:07:59.984699Z",
     "start_time": "2020-07-12T18:07:59.284018Z"
    }
   },
   "outputs": [],
   "source": [
    "fname = get_tmpfile(f\"{os.getcwd()}/../models/w2v.vectors.kv\")\n",
    "w2v = KeyedVectors.load(fname, mmap='r')"
   ]
  },
  {
   "cell_type": "code",
   "execution_count": 12,
   "metadata": {
    "ExecuteTime": {
     "end_time": "2020-07-12T18:08:00.577562Z",
     "start_time": "2020-07-12T18:08:00.572232Z"
    }
   },
   "outputs": [],
   "source": [
    "max_words = 100_000\n",
    "batch_size = 128\n",
    "w2v_size = 300\n",
    "corpus = []"
   ]
  },
  {
   "cell_type": "code",
   "execution_count": 13,
   "metadata": {
    "ExecuteTime": {
     "end_time": "2020-07-12T18:08:01.006879Z",
     "start_time": "2020-07-12T18:08:00.983736Z"
    }
   },
   "outputs": [],
   "source": [
    "df = pd.read_csv(f\"{os.getcwd()}/../data/frases/dataset_emocoes.csv\", sep=\"|\")"
   ]
  },
  {
   "cell_type": "code",
   "execution_count": 14,
   "metadata": {
    "ExecuteTime": {
     "end_time": "2020-07-12T18:08:04.336609Z",
     "start_time": "2020-07-12T18:08:01.693000Z"
    }
   },
   "outputs": [],
   "source": [
    "X = df[\"Sentence\"].apply(lambda comment: clean_up.fit(str(comment))).to_numpy()\n",
    "y = pd.get_dummies(df[\"Emotion\"]).to_numpy()"
   ]
  },
  {
   "cell_type": "code",
   "execution_count": 15,
   "metadata": {
    "ExecuteTime": {
     "end_time": "2020-07-12T18:08:05.194270Z",
     "start_time": "2020-07-12T18:08:05.191135Z"
    }
   },
   "outputs": [
    {
     "name": "stdout",
     "output_type": "stream",
     "text": [
      "Dataset size: 2496\n"
     ]
    }
   ],
   "source": [
    "print(f'Dataset size: {len(X)}')"
   ]
  },
  {
   "cell_type": "code",
   "execution_count": 16,
   "metadata": {
    "ExecuteTime": {
     "end_time": "2020-07-12T18:08:06.030295Z",
     "start_time": "2020-07-12T18:08:06.025044Z"
    }
   },
   "outputs": [
    {
     "name": "stdout",
     "output_type": "stream",
     "text": [
      "Maxlen: 107\n"
     ]
    }
   ],
   "source": [
    "maxlen = 0\n",
    "for phrase in X:\n",
    "    size = len(phrase.split())\n",
    "    maxlen = size if size > maxlen else maxlen\n",
    "maxlen += 1\n",
    "print(f'Maxlen: {maxlen}')"
   ]
  },
  {
   "cell_type": "code",
   "execution_count": 18,
   "metadata": {
    "ExecuteTime": {
     "end_time": "2020-07-12T18:08:09.247233Z",
     "start_time": "2020-07-12T18:08:09.175998Z"
    }
   },
   "outputs": [
    {
     "name": "stdout",
     "output_type": "stream",
     "text": [
      "Vocab size: 5391\n"
     ]
    }
   ],
   "source": [
    "X_train, X_test, y_train, y_test = train_test_split(X, y, test_size=0.2, random_state=0)\n",
    "\n",
    "tokenizer = Tokenizer(num_words=max_words, lower=False, oov_token='<OOV>', char_level=False)\n",
    "tokenizer.fit_on_texts(X)\n",
    "vocab_size = len(tokenizer.word_index) + 1\n",
    "\n",
    "X_train = tokenizer.texts_to_sequences(X_train)\n",
    "X_test = tokenizer.texts_to_sequences(X_test)\n",
    "X_train = pad_sequences(X_train, maxlen=maxlen, padding='post')\n",
    "X_test = pad_sequences(X_test, maxlen=maxlen, padding='post')\n",
    "\n",
    "print(f\"Vocab size: {vocab_size}\")"
   ]
  },
  {
   "cell_type": "code",
   "execution_count": 19,
   "metadata": {
    "ExecuteTime": {
     "end_time": "2020-07-12T18:08:09.731881Z",
     "start_time": "2020-07-12T18:08:09.686573Z"
    }
   },
   "outputs": [
    {
     "name": "stdout",
     "output_type": "stream",
     "text": [
      "Embedding Matrix size: (5391, 300)\n"
     ]
    }
   ],
   "source": [
    "word_index = tokenizer.word_index\n",
    "\n",
    "embedding_matrix = np.zeros((len(word_index) + 1, w2v_size))\n",
    "for word, i in word_index.items():\n",
    "    embedding_vector = None\n",
    "    try:\n",
    "        embedding_vector = w2v[word]\n",
    "    except:\n",
    "        pass\n",
    "    if embedding_vector is not None:\n",
    "        embedding_matrix[i] = embedding_vector\n",
    "print('Embedding Matrix size:', embedding_matrix.shape)"
   ]
  },
  {
   "cell_type": "code",
   "execution_count": 20,
   "metadata": {
    "ExecuteTime": {
     "end_time": "2020-07-12T18:08:25.505060Z",
     "start_time": "2020-07-12T18:08:10.938942Z"
    }
   },
   "outputs": [
    {
     "name": "stdout",
     "output_type": "stream",
     "text": [
      "Model: \"WordEmbeddings\"\n",
      "_________________________________________________________________\n",
      "Layer (type)                 Output Shape              Param #   \n",
      "=================================================================\n",
      "embedding (Embedding)        (None, None, 300)         1617300   \n",
      "_________________________________________________________________\n",
      "bidirectional (Bidirectional (None, None, 64)          64128     \n",
      "_________________________________________________________________\n",
      "dropout (Dropout)            (None, None, 64)          0         \n",
      "_________________________________________________________________\n",
      "bidirectional_1 (Bidirection (None, 64)                18816     \n",
      "_________________________________________________________________\n",
      "dropout_1 (Dropout)          (None, 64)                0         \n",
      "_________________________________________________________________\n",
      "dense (Dense)                (None, 2048)              133120    \n",
      "_________________________________________________________________\n",
      "dropout_2 (Dropout)          (None, 2048)              0         \n",
      "_________________________________________________________________\n",
      "dense_1 (Dense)              (None, 7)                 14343     \n",
      "=================================================================\n",
      "Total params: 1,847,707\n",
      "Trainable params: 1,847,707\n",
      "Non-trainable params: 0\n",
      "_________________________________________________________________\n"
     ]
    }
   ],
   "source": [
    "model = Sequential(name='WordEmbeddings')\n",
    "model.add(\n",
    "    Embedding(\n",
    "        len(word_index) + 1,\n",
    "        w2v_size, \n",
    "        weights=[embedding_matrix],\n",
    "        trainable=True,\n",
    "    )\n",
    ")\n",
    "model.add(Bidirectional(GRU(32, return_sequences=True)))\n",
    "model.add(Dropout(0.2))\n",
    "model.add(Bidirectional(GRU(32)))\n",
    "model.add(Dropout(0.2))\n",
    "model.add(\n",
    "    Dense(\n",
    "        2048,\n",
    "        activation='elu',\n",
    "        kernel_regularizer=regularizers.l2(1e-4),\n",
    "        activity_regularizer=regularizers.l2(1e-4)\n",
    "    )\n",
    ")\n",
    "model.add(Dropout(0.5))\n",
    "model.add(Dense(7, activation='softmax'))\n",
    "model.compile(loss='categorical_crossentropy', optimizer='adam', metrics=['accuracy'])\n",
    "model.summary()"
   ]
  },
  {
   "cell_type": "code",
   "execution_count": 21,
   "metadata": {
    "ExecuteTime": {
     "end_time": "2020-07-12T18:08:54.126199Z",
     "start_time": "2020-07-12T18:08:25.506094Z"
    }
   },
   "outputs": [
    {
     "name": "stdout",
     "output_type": "stream",
     "text": [
      "16/16 [==============================] - 0s 7ms/step - loss: 1.4413 - accuracy: 0.5380\n",
      "Test loss: 1.4413468837738037\n",
      "Test accuracy: 54%\n"
     ]
    }
   ],
   "source": [
    "epochs = 20\n",
    "checkpoint_filepath = './weights.hdf5'\n",
    "model_checkpoint_callback = ModelCheckpoint(\n",
    "    filepath=checkpoint_filepath,\n",
    "    save_weights_only=True,\n",
    "    monitor='val_accuracy',\n",
    "    mode='max',\n",
    "    verbose=0,\n",
    "    save_best_only=True)\n",
    "\n",
    "history = model.fit(\n",
    "    X_train, y_train, \n",
    "    batch_size=batch_size, \n",
    "    epochs=epochs, \n",
    "    verbose=0,\n",
    "    shuffle=True,\n",
    "    validation_data=(X_test, y_test),\n",
    "    callbacks=[model_checkpoint_callback]\n",
    ")\n",
    "\n",
    "model.load_weights(checkpoint_filepath)\n",
    "score = model.evaluate(X_test, y_test, verbose=1)\n",
    "print('Test loss:', score[0])\n",
    "print('Test accuracy:', f'{round(score[1] * 100)}%')"
   ]
  },
  {
   "cell_type": "code",
   "execution_count": 22,
   "metadata": {
    "ExecuteTime": {
     "end_time": "2020-07-12T18:08:55.676688Z",
     "start_time": "2020-07-12T18:08:54.127911Z"
    }
   },
   "outputs": [
    {
     "name": "stdout",
     "output_type": "stream",
     "text": [
      "              precision    recall  f1-score   support\n",
      "\n",
      "           0       0.54      0.70      0.61       155\n",
      "           1       0.39      0.19      0.26        63\n",
      "           2       0.00      0.00      0.00        26\n",
      "           3       0.80      0.86      0.83        87\n",
      "           4       0.20      0.03      0.06        29\n",
      "           5       0.20      0.25      0.22        24\n",
      "           6       0.48      0.57      0.52       116\n",
      "\n",
      "    accuracy                           0.54       500\n",
      "   macro avg       0.37      0.37      0.36       500\n",
      "weighted avg       0.49      0.54      0.50       500\n",
      "\n"
     ]
    },
    {
     "data": {
      "image/png": "[encoded data removed]",
      "text/plain": [
       "<Figure size 432x288 with 2 Axes>"
      ]
     },
     "metadata": {
      "needs_background": "light"
     },
     "output_type": "display_data"
    }
   ],
   "source": [
    "pred = np.argmax(model.predict(X_test), axis=-1)\n",
    "print(classification_report(np.argmax(y_test, axis=-1), pred))\n",
    "\n",
    "df_cm = confusion_matrix(np.argmax(y_test, axis=-1), pred)\n",
    "plt.figure(figsize=(6, 4))\n",
    "sn.heatmap(df_cm, annot=True, fmt=\"d\")\n",
    "plt.tight_layout()\n",
    "plt.show()"
   ]
  },
  {
   "cell_type": "code",
   "execution_count": 23,
   "metadata": {
    "ExecuteTime": {
     "end_time": "2020-07-12T18:08:55.952730Z",
     "start_time": "2020-07-12T18:08:55.677977Z"
    }
   },
   "outputs": [
    {
     "data": {
      "image/png": "[encoded data removed]",
      "text/plain": [
       "<Figure size 1080x360 with 2 Axes>"
      ]
     },
     "metadata": {
      "needs_background": "light"
     },
     "output_type": "display_data"
    }
   ],
   "source": [
    "plt.figure(figsize=(15, 5))\n",
    "plt.subplot(1, 2, 1)\n",
    "\n",
    "plt.plot(history.history[\"accuracy\"], label=\"Acc\", c=\"C0\")\n",
    "plt.plot(history.history[\"val_accuracy\"], label=\"Val. Acc\", c=\"C2\")\n",
    "plt.legend()\n",
    "plt.subplot(1, 2, 2)\n",
    "plt.plot(history.history[\"loss\"], label=\"Loss\", c=\"C1\")\n",
    "plt.plot(history.history[\"val_loss\"], label=\"Val. Loss\", c=\"C3\")\n",
    "plt.xticks(range(0, epochs, 2))\n",
    "plt.legend()\n",
    "plt.tight_layout()\n",
    "plt.show()"
   ]
  },
  {
   "cell_type": "code",
   "execution_count": null,
   "metadata": {},
   "outputs": [],
   "source": []
  }
 ],
 "metadata": {
  "hide_input": false,
  "kernelspec": {
   "display_name": "Python 3",
   "language": "python",
   "name": "python3"
  },
  "language_info": {
   "codemirror_mode": {
    "name": "ipython",
    "version": 3
   },
   "file_extension": ".py",
   "mimetype": "text/x-python",
   "name": "python",
   "nbconvert_exporter": "python",
   "pygments_lexer": "ipython3",
   "version": "3.8.3"
  },
  "toc": {
   "base_numbering": 1,
   "nav_menu": {},
   "number_sections": true,
   "sideBar": true,
   "skip_h1_title": false,
   "title_cell": "Table of Contents",
   "title_sidebar": "Contents",
   "toc_cell": false,
   "toc_position": {},
   "toc_section_display": true,
   "toc_window_display": false
  }
 },
 "nbformat": 4,
 "nbformat_minor": 4
}
